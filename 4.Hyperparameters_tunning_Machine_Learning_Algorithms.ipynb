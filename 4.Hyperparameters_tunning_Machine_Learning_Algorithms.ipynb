{
  "nbformat": 4,
  "nbformat_minor": 0,
  "metadata": {
    "colab": {
      "name": "4.Tune ALL Hyperparameters for Classification Machine Learning Algorithms.ipynb",
      "provenance": [],
      "collapsed_sections": []
    },
    "kernelspec": {
      "name": "python3",
      "display_name": "Python 3"
    },
    "accelerator": "GPU"
  },
  "cells": [
    {
      "cell_type": "markdown",
      "metadata": {
        "id": "9bdsHPimvLRX"
      },
      "source": [
        "### Hyperperameter tuning diff ML models\n",
        "all Machine learning algorithms have different parameters\n",
        "\n",
        "https://machinelearningmastery.com/hyperparameters-for-classification-machine-learning-algorithms/"
      ]
    },
    {
      "cell_type": "code",
      "metadata": {
        "id": "O1lfnpeLJr1G",
        "outputId": "6f942054-bf7f-4090-8d75-7f8f953ffc9a",
        "colab": {
          "base_uri": "https://localhost:8080/",
          "height": 34
        }
      },
      "source": [
        "from google.colab import drive\n",
        "drive.mount('/content/drive')"
      ],
      "execution_count": null,
      "outputs": [
        {
          "output_type": "stream",
          "text": [
            "Drive already mounted at /content/drive; to attempt to forcibly remount, call drive.mount(\"/content/drive\", force_remount=True).\n"
          ],
          "name": "stdout"
        }
      ]
    },
    {
      "cell_type": "code",
      "metadata": {
        "id": "rC4pdifhJsVZ",
        "outputId": "6e217cbf-5879-47eb-c090-376a2ff7ee66",
        "colab": {
          "base_uri": "https://localhost:8080/",
          "height": 206
        }
      },
      "source": [
        "import pandas as pd\n",
        "Input_path = '/content/drive/My Drive/ML and AI/Datasets/Iris dataset/iris.csv'\n",
        "data =  pd.read_csv(Input_path)\n",
        "display(data.head())"
      ],
      "execution_count": null,
      "outputs": [
        {
          "output_type": "display_data",
          "data": {
            "text/html": [
              "<div>\n",
              "<style scoped>\n",
              "    .dataframe tbody tr th:only-of-type {\n",
              "        vertical-align: middle;\n",
              "    }\n",
              "\n",
              "    .dataframe tbody tr th {\n",
              "        vertical-align: top;\n",
              "    }\n",
              "\n",
              "    .dataframe thead th {\n",
              "        text-align: right;\n",
              "    }\n",
              "</style>\n",
              "<table border=\"1\" class=\"dataframe\">\n",
              "  <thead>\n",
              "    <tr style=\"text-align: right;\">\n",
              "      <th></th>\n",
              "      <th>sepal.length</th>\n",
              "      <th>sepal.width</th>\n",
              "      <th>petal.length</th>\n",
              "      <th>petal.width</th>\n",
              "      <th>variety</th>\n",
              "    </tr>\n",
              "  </thead>\n",
              "  <tbody>\n",
              "    <tr>\n",
              "      <th>0</th>\n",
              "      <td>5.1</td>\n",
              "      <td>3.5</td>\n",
              "      <td>1.4</td>\n",
              "      <td>0.2</td>\n",
              "      <td>Setosa</td>\n",
              "    </tr>\n",
              "    <tr>\n",
              "      <th>1</th>\n",
              "      <td>4.9</td>\n",
              "      <td>3.0</td>\n",
              "      <td>1.4</td>\n",
              "      <td>0.2</td>\n",
              "      <td>Setosa</td>\n",
              "    </tr>\n",
              "    <tr>\n",
              "      <th>2</th>\n",
              "      <td>4.7</td>\n",
              "      <td>3.2</td>\n",
              "      <td>1.3</td>\n",
              "      <td>0.2</td>\n",
              "      <td>Setosa</td>\n",
              "    </tr>\n",
              "    <tr>\n",
              "      <th>3</th>\n",
              "      <td>4.6</td>\n",
              "      <td>3.1</td>\n",
              "      <td>1.5</td>\n",
              "      <td>0.2</td>\n",
              "      <td>Setosa</td>\n",
              "    </tr>\n",
              "    <tr>\n",
              "      <th>4</th>\n",
              "      <td>5.0</td>\n",
              "      <td>3.6</td>\n",
              "      <td>1.4</td>\n",
              "      <td>0.2</td>\n",
              "      <td>Setosa</td>\n",
              "    </tr>\n",
              "  </tbody>\n",
              "</table>\n",
              "</div>"
            ],
            "text/plain": [
              "   sepal.length  sepal.width  petal.length  petal.width variety\n",
              "0           5.1          3.5           1.4          0.2  Setosa\n",
              "1           4.9          3.0           1.4          0.2  Setosa\n",
              "2           4.7          3.2           1.3          0.2  Setosa\n",
              "3           4.6          3.1           1.5          0.2  Setosa\n",
              "4           5.0          3.6           1.4          0.2  Setosa"
            ]
          },
          "metadata": {
            "tags": []
          }
        }
      ]
    },
    {
      "cell_type": "code",
      "metadata": {
        "id": "3cmKZg7fJ9ZB"
      },
      "source": [
        "X = data.iloc[:, :-1].values    #   X -> Feature Variables\n",
        "y = data.iloc[:, -1].values #   y ->  Target(Labels)\n",
        "\n",
        "# Splitting the data into Train and Test\n",
        "from sklearn.model_selection import train_test_split\n",
        "X_train, X_test, y_train, y_test = train_test_split(X, y, test_size = 0.3, random_state = 1)"
      ],
      "execution_count": null,
      "outputs": []
    },
    {
      "cell_type": "code",
      "metadata": {
        "id": "mf_dnZ5dJ_pS"
      },
      "source": [
        "# Data is ready"
      ],
      "execution_count": null,
      "outputs": []
    },
    {
      "cell_type": "markdown",
      "metadata": {
        "id": "vBwEH9pWvs33"
      },
      "source": [
        "The seven classification algorithms we will look at are as follows:\n",
        "\n",
        "1. Logistic Regression\n",
        "2. Ridge Classifier\n",
        "3. K-Nearest Neighbors (KNN)\n",
        "4. Support Vector Machine (SVM)\n",
        "5. Bagged Decision Trees (Bagging)\n",
        "6. Random Forest\n",
        "7. Stochastic Gradient Boosting"
      ]
    },
    {
      "cell_type": "markdown",
      "metadata": {
        "id": "ecEDCvexwCcN"
      },
      "source": [
        "### Logistic Regression\n",
        "Logistic regression does not really have any critical hyperparameters to tune.\n",
        "\n",
        "Sometimes, you can see useful differences in performance or convergence with different solvers (solver).\n",
        "\n",
        "solver in [‘newton-cg’, ‘lbfgs’, ‘liblinear’, ‘sag’, ‘saga’]\n",
        "Regularization (penalty) can sometimes be helpful.\n",
        "\n",
        "penalty in [‘none’, ‘l1’, ‘l2’, ‘elasticnet’]\n",
        "Note: not all solvers support all regularization terms.\n",
        "\n",
        "The C parameter controls the penality strength, which can also be effective.\n",
        "\n",
        "C in [100, 10, 1.0, 0.1, 0.01]\n",
        "For the full list of hyperparameters, see:"
      ]
    },
    {
      "cell_type": "markdown",
      "metadata": {
        "id": "1S48_EDKwZR2"
      },
      "source": [
        "The example below demonstrates grid searching the key hyperparameters for LogisticRegression on a synthetic binary classification dataset.\n",
        "\n",
        "Some combinations were omitted to cut back on the warnings/errors."
      ]
    },
    {
      "cell_type": "code",
      "metadata": {
        "id": "6vp3scsCKE4U"
      },
      "source": [
        "from sklearn.model_selection import RepeatedStratifiedKFold\n",
        "from sklearn.model_selection import GridSearchCV\n",
        "from sklearn.linear_model import LogisticRegression\n",
        "\n",
        "solvers = ['newton-cg', 'lbfgs', 'liblinear']\n",
        "penalty = ['l2']\n",
        "c_values = [100, 10, 1.0, 0.1, 0.01]\n",
        "model = LogisticRegression()"
      ],
      "execution_count": null,
      "outputs": []
    },
    {
      "cell_type": "code",
      "metadata": {
        "id": "9svp_F43m9PJ"
      },
      "source": [
        "# define grid search\n",
        "grid = dict(solver=solvers,penalty=penalty,C=c_values)\n",
        "cv = RepeatedStratifiedKFold(n_splits=10, n_repeats=3, random_state=1)\n",
        "grid_search = GridSearchCV(estimator=model, param_grid=grid, n_jobs=-1, cv=cv, scoring='accuracy',error_score=0)\n",
        "grid_result = grid_search.fit(X_train, y_train)"
      ],
      "execution_count": null,
      "outputs": []
    },
    {
      "cell_type": "code",
      "metadata": {
        "id": "XxHi3ajgnqUC",
        "outputId": "282c05c9-4e85-4287-b2a9-05609a8944fb",
        "colab": {
          "base_uri": "https://localhost:8080/",
          "height": 294
        }
      },
      "source": [
        "# summarize results\n",
        "print(\"Best: %f using %s\" % (grid_result.best_score_, grid_result.best_params_))\n",
        "means = grid_result.cv_results_['mean_test_score']\n",
        "stds = grid_result.cv_results_['std_test_score']\n",
        "params = grid_result.cv_results_['params']\n",
        "for mean, stdev, param in zip(means, stds, params):\n",
        "    print(\"%f (%f) with: %r\" % (mean, stdev, param))"
      ],
      "execution_count": null,
      "outputs": [
        {
          "output_type": "stream",
          "text": [
            "Best: 0.968788 using {'C': 1.0, 'penalty': 'l2', 'solver': 'newton-cg'}\n",
            "0.958788 (0.053820) with: {'C': 100, 'penalty': 'l2', 'solver': 'newton-cg'}\n",
            "0.958788 (0.053820) with: {'C': 100, 'penalty': 'l2', 'solver': 'lbfgs'}\n",
            "0.958485 (0.064397) with: {'C': 100, 'penalty': 'l2', 'solver': 'liblinear'}\n",
            "0.958788 (0.053820) with: {'C': 10, 'penalty': 'l2', 'solver': 'newton-cg'}\n",
            "0.958788 (0.053820) with: {'C': 10, 'penalty': 'l2', 'solver': 'lbfgs'}\n",
            "0.952424 (0.059088) with: {'C': 10, 'penalty': 'l2', 'solver': 'liblinear'}\n",
            "0.968788 (0.044206) with: {'C': 1.0, 'penalty': 'l2', 'solver': 'newton-cg'}\n",
            "0.968788 (0.044206) with: {'C': 1.0, 'penalty': 'l2', 'solver': 'lbfgs'}\n",
            "0.933939 (0.073628) with: {'C': 1.0, 'penalty': 'l2', 'solver': 'liblinear'}\n",
            "0.914848 (0.073123) with: {'C': 0.1, 'penalty': 'l2', 'solver': 'newton-cg'}\n",
            "0.914848 (0.073123) with: {'C': 0.1, 'penalty': 'l2', 'solver': 'lbfgs'}\n",
            "0.755758 (0.080211) with: {'C': 0.1, 'penalty': 'l2', 'solver': 'liblinear'}\n",
            "0.791212 (0.071523) with: {'C': 0.01, 'penalty': 'l2', 'solver': 'newton-cg'}\n",
            "0.791212 (0.071523) with: {'C': 0.01, 'penalty': 'l2', 'solver': 'lbfgs'}\n",
            "0.695455 (0.031818) with: {'C': 0.01, 'penalty': 'l2', 'solver': 'liblinear'}\n"
          ],
          "name": "stdout"
        }
      ]
    },
    {
      "cell_type": "code",
      "metadata": {
        "id": "t3rrHajyodr7",
        "outputId": "2dd8382a-b5fc-4f91-9b79-dd2fe400e0b8",
        "colab": {
          "base_uri": "https://localhost:8080/",
          "height": 51
        }
      },
      "source": [
        "# Print the tuned parameters and score \n",
        "print(\"Logistic Regression: {}\".format(grid_result.best_params_)) \n",
        "print(\"Best score is {}\".format(grid_result.best_score_)) "
      ],
      "execution_count": null,
      "outputs": [
        {
          "output_type": "stream",
          "text": [
            "Logistic Regression: {'C': 1.0, 'penalty': 'l2', 'solver': 'newton-cg'}\n",
            "Best score is 0.9687878787878789\n"
          ],
          "name": "stdout"
        }
      ]
    },
    {
      "cell_type": "markdown",
      "metadata": {
        "id": "ESOnh-NTx8CV"
      },
      "source": [
        "###Ridge Classifier\n",
        "Ridge regression is a penalized linear regression model for predicting a numerical value.\n",
        "\n",
        "Nevertheless, it can be very effective when applied to classification.\n",
        "\n",
        "Perhaps the most important parameter to tune is the regularization strength (alpha). A good starting point might be values in the range [0.1 to 1.0]\n",
        "\n",
        "alpha in [0.1, 0.2, 0.3, 0.4, 0.5, 0.6, 0.7, 0.8, 0.9, 1.0]\n",
        "For the full list of hyperparameters, see:\n",
        "\n",
        "sklearn.linear_model.RidgeClassifier API.\n",
        "The example below demonstrates grid searching the key hyperparameters for RidgeClassifier on a synthetic binary classification dataset."
      ]
    },
    {
      "cell_type": "code",
      "metadata": {
        "id": "E3_DICrDxAvc"
      },
      "source": [
        "# example of grid searching key hyperparametres for ridge classifier\n",
        "from sklearn.model_selection import RepeatedStratifiedKFold\n",
        "from sklearn.model_selection import GridSearchCV\n",
        "from sklearn.linear_model import RidgeClassifier\n",
        "\n",
        "model = RidgeClassifier()\n",
        "alpha = [0.1, 0.2, 0.3, 0.4, 0.5, 0.6, 0.7, 0.8, 0.9, 1.0]"
      ],
      "execution_count": null,
      "outputs": []
    },
    {
      "cell_type": "code",
      "metadata": {
        "id": "VlHjLwNByXfk"
      },
      "source": [
        "# define grid search\n",
        "grid = dict(alpha=alpha)\n",
        "cv = RepeatedStratifiedKFold(n_splits=10, n_repeats=3, random_state=1)\n",
        "grid_search = GridSearchCV(estimator=model, param_grid=grid, n_jobs=-1, cv=cv, scoring='accuracy',error_score=0)\n",
        "grid_result = grid_search.fit(X_train, y_train)"
      ],
      "execution_count": null,
      "outputs": []
    },
    {
      "cell_type": "code",
      "metadata": {
        "id": "WqL8fZL5yALN",
        "outputId": "5f544296-8e49-4f9a-f079-a428a2c12d11",
        "colab": {
          "base_uri": "https://localhost:8080/",
          "height": 207
        }
      },
      "source": [
        "# summarize results\n",
        "print(\"Best: %f using %s\" % (grid_result.best_score_, grid_result.best_params_))\n",
        "means = grid_result.cv_results_['mean_test_score']\n",
        "stds = grid_result.cv_results_['std_test_score']\n",
        "params = grid_result.cv_results_['params']\n",
        "for mean, stdev, param in zip(means, stds, params):\n",
        "    print(\"%f (%f) with: %r\" % (mean, stdev, param))"
      ],
      "execution_count": null,
      "outputs": [
        {
          "output_type": "stream",
          "text": [
            "Best: 0.805758 using {'alpha': 0.9}\n",
            "0.799697 (0.102247) with: {'alpha': 0.1}\n",
            "0.799697 (0.102247) with: {'alpha': 0.2}\n",
            "0.796364 (0.106964) with: {'alpha': 0.3}\n",
            "0.796364 (0.106964) with: {'alpha': 0.4}\n",
            "0.796364 (0.106964) with: {'alpha': 0.5}\n",
            "0.796364 (0.106964) with: {'alpha': 0.6}\n",
            "0.799697 (0.108572) with: {'alpha': 0.7}\n",
            "0.802727 (0.102534) with: {'alpha': 0.8}\n",
            "0.805758 (0.098850) with: {'alpha': 0.9}\n",
            "0.805758 (0.098850) with: {'alpha': 1.0}\n"
          ],
          "name": "stdout"
        }
      ]
    },
    {
      "cell_type": "markdown",
      "metadata": {
        "id": "HhHs8MA-y_e0"
      },
      "source": [
        "###K-Nearest Neighbors (KNN)"
      ]
    },
    {
      "cell_type": "code",
      "metadata": {
        "id": "w5QQENzJyx-I"
      },
      "source": [
        "# define models and parameters\n",
        "from sklearn.model_selection import RepeatedStratifiedKFold\n",
        "from sklearn.model_selection import GridSearchCV\n",
        "from sklearn.neighbors import KNeighborsClassifier\n",
        "\n",
        "model = KNeighborsClassifier()\n",
        "n_neighbors = range(1, 21, 2)\n",
        "weights = ['uniform', 'distance']\n",
        "metric = ['euclidean', 'manhattan', 'minkowski']"
      ],
      "execution_count": null,
      "outputs": []
    },
    {
      "cell_type": "code",
      "metadata": {
        "id": "GgMFS9JGzH3f"
      },
      "source": [
        "# define grid search\n",
        "grid = dict(n_neighbors=n_neighbors,weights=weights,metric=metric)\n",
        "cv = RepeatedStratifiedKFold(n_splits=10, n_repeats=3, random_state=1)\n",
        "grid_search = GridSearchCV(estimator=model, param_grid=grid, n_jobs=-1, cv=cv, scoring='accuracy',error_score=0)\n",
        "grid_result = grid_search.fit(X_train, y_train)"
      ],
      "execution_count": null,
      "outputs": []
    },
    {
      "cell_type": "code",
      "metadata": {
        "id": "qD2RwbUbzQhj",
        "outputId": "772ec685-20da-4f87-cd76-efa5e8d44034",
        "colab": {
          "base_uri": "https://localhost:8080/",
          "height": 1000
        }
      },
      "source": [
        "# summarize results\n",
        "print(\"Best: %f using %s\" % (grid_result.best_score_, grid_result.best_params_))\n",
        "means = grid_result.cv_results_['mean_test_score']\n",
        "stds = grid_result.cv_results_['std_test_score']\n",
        "params = grid_result.cv_results_['params']\n",
        "for mean, stdev, param in zip(means, stds, params):\n",
        "    print(\"%f (%f) with: %r\" % (mean, stdev, param))"
      ],
      "execution_count": null,
      "outputs": [
        {
          "output_type": "stream",
          "text": [
            "Best: 0.975556 using {'metric': 'euclidean', 'n_neighbors': 15, 'weights': 'uniform'}\n",
            "0.960000 (0.044222) with: {'metric': 'euclidean', 'n_neighbors': 1, 'weights': 'uniform'}\n",
            "0.960000 (0.044222) with: {'metric': 'euclidean', 'n_neighbors': 1, 'weights': 'distance'}\n",
            "0.960000 (0.040734) with: {'metric': 'euclidean', 'n_neighbors': 3, 'weights': 'uniform'}\n",
            "0.960000 (0.040734) with: {'metric': 'euclidean', 'n_neighbors': 3, 'weights': 'distance'}\n",
            "0.964444 (0.037450) with: {'metric': 'euclidean', 'n_neighbors': 5, 'weights': 'uniform'}\n",
            "0.964444 (0.037450) with: {'metric': 'euclidean', 'n_neighbors': 5, 'weights': 'distance'}\n",
            "0.968889 (0.037450) with: {'metric': 'euclidean', 'n_neighbors': 7, 'weights': 'uniform'}\n",
            "0.966667 (0.037515) with: {'metric': 'euclidean', 'n_neighbors': 7, 'weights': 'distance'}\n",
            "0.966667 (0.047920) with: {'metric': 'euclidean', 'n_neighbors': 9, 'weights': 'uniform'}\n",
            "0.968889 (0.037450) with: {'metric': 'euclidean', 'n_neighbors': 9, 'weights': 'distance'}\n",
            "0.971111 (0.041036) with: {'metric': 'euclidean', 'n_neighbors': 11, 'weights': 'uniform'}\n",
            "0.968889 (0.037450) with: {'metric': 'euclidean', 'n_neighbors': 11, 'weights': 'distance'}\n",
            "0.973333 (0.036918) with: {'metric': 'euclidean', 'n_neighbors': 13, 'weights': 'uniform'}\n",
            "0.971111 (0.033036) with: {'metric': 'euclidean', 'n_neighbors': 13, 'weights': 'distance'}\n",
            "0.975556 (0.036447) with: {'metric': 'euclidean', 'n_neighbors': 15, 'weights': 'uniform'}\n",
            "0.968889 (0.037450) with: {'metric': 'euclidean', 'n_neighbors': 15, 'weights': 'distance'}\n",
            "0.973333 (0.036918) with: {'metric': 'euclidean', 'n_neighbors': 17, 'weights': 'uniform'}\n",
            "0.971111 (0.033036) with: {'metric': 'euclidean', 'n_neighbors': 17, 'weights': 'distance'}\n",
            "0.973333 (0.040734) with: {'metric': 'euclidean', 'n_neighbors': 19, 'weights': 'uniform'}\n",
            "0.971111 (0.037251) with: {'metric': 'euclidean', 'n_neighbors': 19, 'weights': 'distance'}\n",
            "0.951111 (0.041929) with: {'metric': 'manhattan', 'n_neighbors': 1, 'weights': 'uniform'}\n",
            "0.951111 (0.041929) with: {'metric': 'manhattan', 'n_neighbors': 1, 'weights': 'distance'}\n",
            "0.960000 (0.040734) with: {'metric': 'manhattan', 'n_neighbors': 3, 'weights': 'uniform'}\n",
            "0.960000 (0.040734) with: {'metric': 'manhattan', 'n_neighbors': 3, 'weights': 'distance'}\n",
            "0.960000 (0.040734) with: {'metric': 'manhattan', 'n_neighbors': 5, 'weights': 'uniform'}\n",
            "0.960000 (0.040734) with: {'metric': 'manhattan', 'n_neighbors': 5, 'weights': 'distance'}\n",
            "0.951111 (0.054251) with: {'metric': 'manhattan', 'n_neighbors': 7, 'weights': 'uniform'}\n",
            "0.955556 (0.043319) with: {'metric': 'manhattan', 'n_neighbors': 7, 'weights': 'distance'}\n",
            "0.951111 (0.051448) with: {'metric': 'manhattan', 'n_neighbors': 9, 'weights': 'uniform'}\n",
            "0.960000 (0.040734) with: {'metric': 'manhattan', 'n_neighbors': 9, 'weights': 'distance'}\n",
            "0.962222 (0.044500) with: {'metric': 'manhattan', 'n_neighbors': 11, 'weights': 'uniform'}\n",
            "0.960000 (0.040734) with: {'metric': 'manhattan', 'n_neighbors': 11, 'weights': 'distance'}\n",
            "0.962222 (0.041036) with: {'metric': 'manhattan', 'n_neighbors': 13, 'weights': 'uniform'}\n",
            "0.957778 (0.040307) with: {'metric': 'manhattan', 'n_neighbors': 13, 'weights': 'distance'}\n",
            "0.968889 (0.041216) with: {'metric': 'manhattan', 'n_neighbors': 15, 'weights': 'uniform'}\n",
            "0.955556 (0.046614) with: {'metric': 'manhattan', 'n_neighbors': 15, 'weights': 'distance'}\n",
            "0.966667 (0.041276) with: {'metric': 'manhattan', 'n_neighbors': 17, 'weights': 'uniform'}\n",
            "0.962222 (0.037251) with: {'metric': 'manhattan', 'n_neighbors': 17, 'weights': 'distance'}\n",
            "0.971111 (0.044500) with: {'metric': 'manhattan', 'n_neighbors': 19, 'weights': 'uniform'}\n",
            "0.957778 (0.040307) with: {'metric': 'manhattan', 'n_neighbors': 19, 'weights': 'distance'}\n",
            "0.960000 (0.044222) with: {'metric': 'minkowski', 'n_neighbors': 1, 'weights': 'uniform'}\n",
            "0.960000 (0.044222) with: {'metric': 'minkowski', 'n_neighbors': 1, 'weights': 'distance'}\n",
            "0.960000 (0.040734) with: {'metric': 'minkowski', 'n_neighbors': 3, 'weights': 'uniform'}\n",
            "0.960000 (0.040734) with: {'metric': 'minkowski', 'n_neighbors': 3, 'weights': 'distance'}\n",
            "0.964444 (0.037450) with: {'metric': 'minkowski', 'n_neighbors': 5, 'weights': 'uniform'}\n",
            "0.964444 (0.037450) with: {'metric': 'minkowski', 'n_neighbors': 5, 'weights': 'distance'}\n",
            "0.968889 (0.037450) with: {'metric': 'minkowski', 'n_neighbors': 7, 'weights': 'uniform'}\n",
            "0.966667 (0.037515) with: {'metric': 'minkowski', 'n_neighbors': 7, 'weights': 'distance'}\n",
            "0.966667 (0.047920) with: {'metric': 'minkowski', 'n_neighbors': 9, 'weights': 'uniform'}\n",
            "0.968889 (0.037450) with: {'metric': 'minkowski', 'n_neighbors': 9, 'weights': 'distance'}\n",
            "0.971111 (0.041036) with: {'metric': 'minkowski', 'n_neighbors': 11, 'weights': 'uniform'}\n",
            "0.968889 (0.037450) with: {'metric': 'minkowski', 'n_neighbors': 11, 'weights': 'distance'}\n",
            "0.973333 (0.036918) with: {'metric': 'minkowski', 'n_neighbors': 13, 'weights': 'uniform'}\n",
            "0.971111 (0.033036) with: {'metric': 'minkowski', 'n_neighbors': 13, 'weights': 'distance'}\n",
            "0.975556 (0.036447) with: {'metric': 'minkowski', 'n_neighbors': 15, 'weights': 'uniform'}\n",
            "0.968889 (0.037450) with: {'metric': 'minkowski', 'n_neighbors': 15, 'weights': 'distance'}\n",
            "0.973333 (0.036918) with: {'metric': 'minkowski', 'n_neighbors': 17, 'weights': 'uniform'}\n",
            "0.971111 (0.033036) with: {'metric': 'minkowski', 'n_neighbors': 17, 'weights': 'distance'}\n",
            "0.973333 (0.040734) with: {'metric': 'minkowski', 'n_neighbors': 19, 'weights': 'uniform'}\n",
            "0.971111 (0.037251) with: {'metric': 'minkowski', 'n_neighbors': 19, 'weights': 'distance'}\n"
          ],
          "name": "stdout"
        }
      ]
    },
    {
      "cell_type": "code",
      "metadata": {
        "id": "zIzcnSLtzS67",
        "outputId": "445b08c3-4562-42ca-c0ab-08efec0b594a",
        "colab": {
          "base_uri": "https://localhost:8080/",
          "height": 51
        }
      },
      "source": [
        "# Print the tuned parameters and score \n",
        "print(\"K-Nearest Neighbors (KNN): {}\".format(grid_result.best_params_)) \n",
        "print(\"Best score is {}\".format(grid_result.best_score_)) "
      ],
      "execution_count": null,
      "outputs": [
        {
          "output_type": "stream",
          "text": [
            "K-Nearest Neighbors (KNN): {'metric': 'euclidean', 'n_neighbors': 15, 'weights': 'uniform'}\n",
            "Best score is 0.9755555555555556\n"
          ],
          "name": "stdout"
        }
      ]
    },
    {
      "cell_type": "markdown",
      "metadata": {
        "id": "neDpkjfCzlWD"
      },
      "source": [
        "###Support Vector Machine (SVM)"
      ]
    },
    {
      "cell_type": "code",
      "metadata": {
        "id": "YMRq351XzZ1L"
      },
      "source": [
        "from sklearn.model_selection import RepeatedStratifiedKFold\n",
        "from sklearn.model_selection import GridSearchCV\n",
        "from sklearn.svm import SVC\n",
        "\n",
        "model = SVC()\n",
        "kernel = ['poly', 'rbf', 'sigmoid']\n",
        "C = [50, 10, 1.0, 0.1, 0.01]\n",
        "gamma = ['scale']"
      ],
      "execution_count": null,
      "outputs": []
    },
    {
      "cell_type": "code",
      "metadata": {
        "id": "O7UJbfWjzw2C"
      },
      "source": [
        "# define grid search\n",
        "grid = dict(kernel=kernel,C=C,gamma=gamma)\n",
        "cv = RepeatedStratifiedKFold(n_splits=10, n_repeats=3, random_state=1)\n",
        "grid_search = GridSearchCV(estimator=model, param_grid=grid, n_jobs=-1, cv=cv, scoring='accuracy',error_score=0)\n",
        "grid_result = grid_search.fit(X_train, y_train)"
      ],
      "execution_count": null,
      "outputs": []
    },
    {
      "cell_type": "code",
      "metadata": {
        "id": "Jlv8FoRQz1_S",
        "outputId": "37a670aa-91ff-410c-e3a8-48ce1ea649ae",
        "colab": {
          "base_uri": "https://localhost:8080/",
          "height": 294
        }
      },
      "source": [
        "# summarize results\n",
        "print(\"Best: %f using %s\" % (grid_result.best_score_, grid_result.best_params_))\n",
        "means = grid_result.cv_results_['mean_test_score']\n",
        "stds = grid_result.cv_results_['std_test_score']\n",
        "params = grid_result.cv_results_['params']\n",
        "for mean, stdev, param in zip(means, stds, params):\n",
        "    print(\"%f (%f) with: %r\" % (mean, stdev, param))"
      ],
      "execution_count": null,
      "outputs": [
        {
          "output_type": "stream",
          "text": [
            "Best: 0.977778 using {'C': 10, 'gamma': 'scale', 'kernel': 'rbf'}\n",
            "0.973333 (0.040734) with: {'C': 50, 'gamma': 'scale', 'kernel': 'poly'}\n",
            "0.964444 (0.041216) with: {'C': 50, 'gamma': 'scale', 'kernel': 'rbf'}\n",
            "0.028889 (0.044500) with: {'C': 50, 'gamma': 'scale', 'kernel': 'sigmoid'}\n",
            "0.971111 (0.037251) with: {'C': 10, 'gamma': 'scale', 'kernel': 'poly'}\n",
            "0.977778 (0.031427) with: {'C': 10, 'gamma': 'scale', 'kernel': 'rbf'}\n",
            "0.048889 (0.051448) with: {'C': 10, 'gamma': 'scale', 'kernel': 'sigmoid'}\n",
            "0.962222 (0.037251) with: {'C': 1.0, 'gamma': 'scale', 'kernel': 'poly'}\n",
            "0.964444 (0.044666) with: {'C': 1.0, 'gamma': 'scale', 'kernel': 'rbf'}\n",
            "0.073333 (0.052634) with: {'C': 1.0, 'gamma': 'scale', 'kernel': 'sigmoid'}\n",
            "0.977778 (0.035832) with: {'C': 0.1, 'gamma': 'scale', 'kernel': 'poly'}\n",
            "0.933333 (0.059628) with: {'C': 0.1, 'gamma': 'scale', 'kernel': 'rbf'}\n",
            "0.073333 (0.052634) with: {'C': 0.1, 'gamma': 'scale', 'kernel': 'sigmoid'}\n",
            "0.913333 (0.064750) with: {'C': 0.01, 'gamma': 'scale', 'kernel': 'poly'}\n",
            "0.924444 (0.061423) with: {'C': 0.01, 'gamma': 'scale', 'kernel': 'rbf'}\n",
            "0.073333 (0.052634) with: {'C': 0.01, 'gamma': 'scale', 'kernel': 'sigmoid'}\n"
          ],
          "name": "stdout"
        }
      ]
    },
    {
      "cell_type": "code",
      "metadata": {
        "id": "oEDOStjgz4Ka",
        "outputId": "e3f92e15-6957-4987-e29b-64b5a8707aaf",
        "colab": {
          "base_uri": "https://localhost:8080/",
          "height": 51
        }
      },
      "source": [
        "# Print the tuned parameters and score \n",
        "print(\"Support Vector Machine (SVM): {}\".format(grid_result.best_params_)) \n",
        "print(\"Best score is {}\".format(grid_result.best_score_)) "
      ],
      "execution_count": null,
      "outputs": [
        {
          "output_type": "stream",
          "text": [
            "Support Vector Machine (SVM): {'C': 10, 'gamma': 'scale', 'kernel': 'rbf'}\n",
            "Best score is 0.9777777777777779\n"
          ],
          "name": "stdout"
        }
      ]
    },
    {
      "cell_type": "markdown",
      "metadata": {
        "id": "8JX2uWNl0Afs"
      },
      "source": [
        "###Bagged Decision Trees (Bagging)"
      ]
    },
    {
      "cell_type": "code",
      "metadata": {
        "id": "WEw5GTRoz-Tq"
      },
      "source": [
        "#example of grid searching key hyperparameters for BaggingClassifier\n",
        "from sklearn.model_selection import RepeatedStratifiedKFold\n",
        "from sklearn.model_selection import GridSearchCV\n",
        "from sklearn.ensemble import BaggingClassifier\n",
        "\n",
        "# define models and parameters\n",
        "model = BaggingClassifier()\n",
        "n_estimators = [10, 100, 1000]"
      ],
      "execution_count": null,
      "outputs": []
    },
    {
      "cell_type": "code",
      "metadata": {
        "id": "EtEGE8h80KqS"
      },
      "source": [
        "# define grid search\n",
        "grid = dict(n_estimators=n_estimators)\n",
        "cv = RepeatedStratifiedKFold(n_splits=10, n_repeats=3, random_state=1)\n",
        "grid_search = GridSearchCV(estimator=model, param_grid=grid, n_jobs=-1, cv=cv, scoring='accuracy',error_score=0)\n",
        "grid_result = grid_search.fit(X_train, y_train)"
      ],
      "execution_count": null,
      "outputs": []
    },
    {
      "cell_type": "code",
      "metadata": {
        "id": "o7BrAYqb0OBh",
        "outputId": "e1e667c3-7b31-410c-9bfe-b44c881d4d60",
        "colab": {
          "base_uri": "https://localhost:8080/",
          "height": 86
        }
      },
      "source": [
        "# summarize results\n",
        "print(\"Best: %f using %s\" % (grid_result.best_score_, grid_result.best_params_))\n",
        "means = grid_result.cv_results_['mean_test_score']\n",
        "stds = grid_result.cv_results_['std_test_score']\n",
        "params = grid_result.cv_results_['params']\n",
        "for mean, stdev, param in zip(means, stds, params):\n",
        "    print(\"%f (%f) with: %r\" % (mean, stdev, param))"
      ],
      "execution_count": null,
      "outputs": [
        {
          "output_type": "stream",
          "text": [
            "Best: 0.956364 using {'n_estimators': 1000}\n",
            "0.949394 (0.047452) with: {'n_estimators': 10}\n",
            "0.953030 (0.052596) with: {'n_estimators': 100}\n",
            "0.956364 (0.052297) with: {'n_estimators': 1000}\n"
          ],
          "name": "stdout"
        }
      ]
    },
    {
      "cell_type": "code",
      "metadata": {
        "id": "8o737lqr0QrA",
        "outputId": "c3e992f9-ec46-425b-ebfc-e2c8761dcf4a",
        "colab": {
          "base_uri": "https://localhost:8080/",
          "height": 51
        }
      },
      "source": [
        "# Print the tuned parameters and score \n",
        "print(\"Bagged Decision Trees (Bagging): {}\".format(grid_result.best_params_)) \n",
        "print(\"Best score is {}\".format(grid_result.best_score_)) "
      ],
      "execution_count": null,
      "outputs": [
        {
          "output_type": "stream",
          "text": [
            "Bagged Decision Trees (Bagging): {'n_estimators': 1000}\n",
            "Best score is 0.9563636363636364\n"
          ],
          "name": "stdout"
        }
      ]
    },
    {
      "cell_type": "markdown",
      "metadata": {
        "id": "AgixKS_e0a0t"
      },
      "source": [
        "##Random Forest"
      ]
    },
    {
      "cell_type": "code",
      "metadata": {
        "id": "J4xhQeQ-0SP9"
      },
      "source": [
        "from sklearn.model_selection import RepeatedStratifiedKFold\n",
        "from sklearn.model_selection import GridSearchCV\n",
        "from sklearn.ensemble import RandomForestClassifier\n",
        "\n",
        "model = RandomForestClassifier()\n",
        "n_estimators = [10, 100, 1000]\n",
        "max_features = ['sqrt', 'log2']"
      ],
      "execution_count": null,
      "outputs": []
    },
    {
      "cell_type": "code",
      "metadata": {
        "id": "Wq2aILui0jOB"
      },
      "source": [
        "# define grid search\n",
        "grid = dict(n_estimators=n_estimators,max_features=max_features)\n",
        "cv = RepeatedStratifiedKFold(n_splits=10, n_repeats=3, random_state=1)\n",
        "grid_search = GridSearchCV(estimator=model, param_grid=grid, n_jobs=-1, cv=cv, scoring='accuracy',error_score=0)\n",
        "grid_result = grid_search.fit(X_train, y_train)"
      ],
      "execution_count": null,
      "outputs": []
    },
    {
      "cell_type": "code",
      "metadata": {
        "id": "p6aQAOPH0otS",
        "outputId": "b3c993b4-e8d8-4025-d49e-3f14cff102b6",
        "colab": {
          "base_uri": "https://localhost:8080/",
          "height": 138
        }
      },
      "source": [
        "# summarize results\n",
        "print(\"Best: %f using %s\" % (grid_result.best_score_, grid_result.best_params_))\n",
        "means = grid_result.cv_results_['mean_test_score']\n",
        "stds = grid_result.cv_results_['std_test_score']\n",
        "params = grid_result.cv_results_['params']\n",
        "for mean, stdev, param in zip(means, stds, params):\n",
        "    print(\"%f (%f) with: %r\" % (mean, stdev, param))"
      ],
      "execution_count": null,
      "outputs": [
        {
          "output_type": "stream",
          "text": [
            "Best: 0.953030 using {'max_features': 'sqrt', 'n_estimators': 1000}\n",
            "0.940303 (0.066294) with: {'max_features': 'sqrt', 'n_estimators': 10}\n",
            "0.946667 (0.062884) with: {'max_features': 'sqrt', 'n_estimators': 100}\n",
            "0.953030 (0.052596) with: {'max_features': 'sqrt', 'n_estimators': 1000}\n",
            "0.946364 (0.068166) with: {'max_features': 'log2', 'n_estimators': 10}\n",
            "0.950000 (0.057436) with: {'max_features': 'log2', 'n_estimators': 100}\n",
            "0.953030 (0.052596) with: {'max_features': 'log2', 'n_estimators': 1000}\n"
          ],
          "name": "stdout"
        }
      ]
    },
    {
      "cell_type": "code",
      "metadata": {
        "id": "J0EUL6XT0rqL",
        "outputId": "98f80a68-7db7-4cbe-aec1-659b0a3acd1d",
        "colab": {
          "base_uri": "https://localhost:8080/",
          "height": 51
        }
      },
      "source": [
        "# Print the tuned parameters and score \n",
        "print(\"Random Forest: {}\".format(grid_result.best_params_)) \n",
        "print(\"Best score is {}\".format(grid_result.best_score_)) "
      ],
      "execution_count": null,
      "outputs": [
        {
          "output_type": "stream",
          "text": [
            "Random Forest: {'max_features': 'sqrt', 'n_estimators': 1000}\n",
            "Best score is 0.953030303030303\n"
          ],
          "name": "stdout"
        }
      ]
    },
    {
      "cell_type": "markdown",
      "metadata": {
        "id": "xfd9IZu60vMs"
      },
      "source": [
        "###Stochastic Gradient Boosting"
      ]
    },
    {
      "cell_type": "code",
      "metadata": {
        "id": "zu0qeuq40tKe"
      },
      "source": [
        "from sklearn.model_selection import RepeatedStratifiedKFold\n",
        "from sklearn.model_selection import GridSearchCV\n",
        "from sklearn.ensemble import GradientBoostingClassifier\n",
        "\n",
        "model = GradientBoostingClassifier()\n",
        "n_estimators = [10, 100, 1000]\n",
        "learning_rate = [0.001, 0.01, 0.1]\n",
        "subsample = [0.5, 0.7, 1.0]\n",
        "max_depth = [3, 7, 9]"
      ],
      "execution_count": null,
      "outputs": []
    },
    {
      "cell_type": "code",
      "metadata": {
        "id": "POfPWswC01Zu"
      },
      "source": [
        "# define grid search\n",
        "grid = dict(learning_rate=learning_rate, n_estimators=n_estimators, subsample=subsample, max_depth=max_depth)\n",
        "cv = RepeatedStratifiedKFold(n_splits=10, n_repeats=3, random_state=1)\n",
        "grid_search = GridSearchCV(estimator=model, param_grid=grid, n_jobs=-1, cv=cv, scoring='accuracy',error_score=0)\n",
        "grid_result = grid_search.fit(X_train, y_train)"
      ],
      "execution_count": null,
      "outputs": []
    },
    {
      "cell_type": "code",
      "metadata": {
        "id": "-GClJDTG07P9",
        "outputId": "fb76f29c-7d68-4030-9225-72eb1629cf40",
        "colab": {
          "base_uri": "https://localhost:8080/",
          "height": 1000
        }
      },
      "source": [
        "# summarize results\n",
        "print(\"Best: %f using %s\" % (grid_result.best_score_, grid_result.best_params_))\n",
        "means = grid_result.cv_results_['mean_test_score']\n",
        "stds = grid_result.cv_results_['std_test_score']\n",
        "params = grid_result.cv_results_['params']\n",
        "for mean, stdev, param in zip(means, stds, params):\n",
        "    print(\"%f (%f) with: %r\" % (mean, stdev, param))"
      ],
      "execution_count": null,
      "outputs": [
        {
          "output_type": "stream",
          "text": [
            "Best: 0.959394 using {'learning_rate': 0.01, 'max_depth': 9, 'n_estimators': 1000, 'subsample': 0.7}\n",
            "0.463030 (0.164106) with: {'learning_rate': 0.001, 'max_depth': 3, 'n_estimators': 10, 'subsample': 0.5}\n",
            "0.460000 (0.161699) with: {'learning_rate': 0.001, 'max_depth': 3, 'n_estimators': 10, 'subsample': 0.7}\n",
            "0.463030 (0.164106) with: {'learning_rate': 0.001, 'max_depth': 3, 'n_estimators': 10, 'subsample': 1.0}\n",
            "0.952727 (0.053956) with: {'learning_rate': 0.001, 'max_depth': 3, 'n_estimators': 100, 'subsample': 0.5}\n",
            "0.955455 (0.054259) with: {'learning_rate': 0.001, 'max_depth': 3, 'n_estimators': 100, 'subsample': 0.7}\n",
            "0.955758 (0.058857) with: {'learning_rate': 0.001, 'max_depth': 3, 'n_estimators': 100, 'subsample': 1.0}\n",
            "0.953030 (0.052596) with: {'learning_rate': 0.001, 'max_depth': 3, 'n_estimators': 1000, 'subsample': 0.5}\n",
            "0.956364 (0.057323) with: {'learning_rate': 0.001, 'max_depth': 3, 'n_estimators': 1000, 'subsample': 0.7}\n",
            "0.953333 (0.057339) with: {'learning_rate': 0.001, 'max_depth': 3, 'n_estimators': 1000, 'subsample': 1.0}\n",
            "0.466364 (0.167828) with: {'learning_rate': 0.001, 'max_depth': 7, 'n_estimators': 10, 'subsample': 0.5}\n",
            "0.466364 (0.167828) with: {'learning_rate': 0.001, 'max_depth': 7, 'n_estimators': 10, 'subsample': 0.7}\n",
            "0.466364 (0.167828) with: {'learning_rate': 0.001, 'max_depth': 7, 'n_estimators': 10, 'subsample': 1.0}\n",
            "0.949394 (0.058901) with: {'learning_rate': 0.001, 'max_depth': 7, 'n_estimators': 100, 'subsample': 0.5}\n",
            "0.952424 (0.054225) with: {'learning_rate': 0.001, 'max_depth': 7, 'n_estimators': 100, 'subsample': 0.7}\n",
            "0.949697 (0.058669) with: {'learning_rate': 0.001, 'max_depth': 7, 'n_estimators': 100, 'subsample': 1.0}\n",
            "0.956364 (0.052297) with: {'learning_rate': 0.001, 'max_depth': 7, 'n_estimators': 1000, 'subsample': 0.5}\n",
            "0.953333 (0.057339) with: {'learning_rate': 0.001, 'max_depth': 7, 'n_estimators': 1000, 'subsample': 0.7}\n",
            "0.953030 (0.052596) with: {'learning_rate': 0.001, 'max_depth': 7, 'n_estimators': 1000, 'subsample': 1.0}\n",
            "0.463030 (0.164106) with: {'learning_rate': 0.001, 'max_depth': 9, 'n_estimators': 10, 'subsample': 0.5}\n",
            "0.463030 (0.164106) with: {'learning_rate': 0.001, 'max_depth': 9, 'n_estimators': 10, 'subsample': 0.7}\n",
            "0.466364 (0.167828) with: {'learning_rate': 0.001, 'max_depth': 9, 'n_estimators': 10, 'subsample': 1.0}\n",
            "0.949394 (0.058901) with: {'learning_rate': 0.001, 'max_depth': 9, 'n_estimators': 100, 'subsample': 0.5}\n",
            "0.958788 (0.053820) with: {'learning_rate': 0.001, 'max_depth': 9, 'n_estimators': 100, 'subsample': 0.7}\n",
            "0.949697 (0.058669) with: {'learning_rate': 0.001, 'max_depth': 9, 'n_estimators': 100, 'subsample': 1.0}\n",
            "0.953030 (0.052596) with: {'learning_rate': 0.001, 'max_depth': 9, 'n_estimators': 1000, 'subsample': 0.5}\n",
            "0.953333 (0.057339) with: {'learning_rate': 0.001, 'max_depth': 9, 'n_estimators': 1000, 'subsample': 0.7}\n",
            "0.953030 (0.052596) with: {'learning_rate': 0.001, 'max_depth': 9, 'n_estimators': 1000, 'subsample': 1.0}\n",
            "0.950000 (0.058435) with: {'learning_rate': 0.01, 'max_depth': 3, 'n_estimators': 10, 'subsample': 0.5}\n",
            "0.946364 (0.058557) with: {'learning_rate': 0.01, 'max_depth': 3, 'n_estimators': 10, 'subsample': 0.7}\n",
            "0.955758 (0.058857) with: {'learning_rate': 0.01, 'max_depth': 3, 'n_estimators': 10, 'subsample': 1.0}\n",
            "0.953030 (0.052596) with: {'learning_rate': 0.01, 'max_depth': 3, 'n_estimators': 100, 'subsample': 0.5}\n",
            "0.953333 (0.057339) with: {'learning_rate': 0.01, 'max_depth': 3, 'n_estimators': 100, 'subsample': 0.7}\n",
            "0.953333 (0.057339) with: {'learning_rate': 0.01, 'max_depth': 3, 'n_estimators': 100, 'subsample': 1.0}\n",
            "0.946667 (0.062884) with: {'learning_rate': 0.01, 'max_depth': 3, 'n_estimators': 1000, 'subsample': 0.5}\n",
            "0.946667 (0.057339) with: {'learning_rate': 0.01, 'max_depth': 3, 'n_estimators': 1000, 'subsample': 0.7}\n",
            "0.959091 (0.052421) with: {'learning_rate': 0.01, 'max_depth': 3, 'n_estimators': 1000, 'subsample': 1.0}\n",
            "0.946364 (0.053647) with: {'learning_rate': 0.01, 'max_depth': 7, 'n_estimators': 10, 'subsample': 0.5}\n",
            "0.949697 (0.058669) with: {'learning_rate': 0.01, 'max_depth': 7, 'n_estimators': 10, 'subsample': 0.7}\n",
            "0.956061 (0.047067) with: {'learning_rate': 0.01, 'max_depth': 7, 'n_estimators': 10, 'subsample': 1.0}\n",
            "0.956364 (0.052297) with: {'learning_rate': 0.01, 'max_depth': 7, 'n_estimators': 100, 'subsample': 0.5}\n",
            "0.953030 (0.052596) with: {'learning_rate': 0.01, 'max_depth': 7, 'n_estimators': 100, 'subsample': 0.7}\n",
            "0.950000 (0.052421) with: {'learning_rate': 0.01, 'max_depth': 7, 'n_estimators': 100, 'subsample': 1.0}\n",
            "0.949697 (0.058669) with: {'learning_rate': 0.01, 'max_depth': 7, 'n_estimators': 1000, 'subsample': 0.5}\n",
            "0.959091 (0.052421) with: {'learning_rate': 0.01, 'max_depth': 7, 'n_estimators': 1000, 'subsample': 0.7}\n",
            "0.943333 (0.062619) with: {'learning_rate': 0.01, 'max_depth': 7, 'n_estimators': 1000, 'subsample': 1.0}\n",
            "0.933939 (0.060436) with: {'learning_rate': 0.01, 'max_depth': 9, 'n_estimators': 10, 'subsample': 0.5}\n",
            "0.958788 (0.047222) with: {'learning_rate': 0.01, 'max_depth': 9, 'n_estimators': 10, 'subsample': 0.7}\n",
            "0.952727 (0.053956) with: {'learning_rate': 0.01, 'max_depth': 9, 'n_estimators': 10, 'subsample': 1.0}\n",
            "0.950000 (0.057436) with: {'learning_rate': 0.01, 'max_depth': 9, 'n_estimators': 100, 'subsample': 0.5}\n",
            "0.946667 (0.057339) with: {'learning_rate': 0.01, 'max_depth': 9, 'n_estimators': 100, 'subsample': 0.7}\n",
            "0.949697 (0.058669) with: {'learning_rate': 0.01, 'max_depth': 9, 'n_estimators': 100, 'subsample': 1.0}\n",
            "0.956061 (0.052596) with: {'learning_rate': 0.01, 'max_depth': 9, 'n_estimators': 1000, 'subsample': 0.5}\n",
            "0.959394 (0.052104) with: {'learning_rate': 0.01, 'max_depth': 9, 'n_estimators': 1000, 'subsample': 0.7}\n",
            "0.943636 (0.056841) with: {'learning_rate': 0.01, 'max_depth': 9, 'n_estimators': 1000, 'subsample': 1.0}\n",
            "0.952121 (0.059332) with: {'learning_rate': 0.1, 'max_depth': 3, 'n_estimators': 10, 'subsample': 0.5}\n",
            "0.949697 (0.057675) with: {'learning_rate': 0.1, 'max_depth': 3, 'n_estimators': 10, 'subsample': 0.7}\n",
            "0.950000 (0.057436) with: {'learning_rate': 0.1, 'max_depth': 3, 'n_estimators': 10, 'subsample': 1.0}\n",
            "0.943636 (0.066697) with: {'learning_rate': 0.1, 'max_depth': 3, 'n_estimators': 100, 'subsample': 0.5}\n",
            "0.946667 (0.062884) with: {'learning_rate': 0.1, 'max_depth': 3, 'n_estimators': 100, 'subsample': 0.7}\n",
            "0.956061 (0.052596) with: {'learning_rate': 0.1, 'max_depth': 3, 'n_estimators': 100, 'subsample': 1.0}\n",
            "0.940000 (0.067322) with: {'learning_rate': 0.1, 'max_depth': 3, 'n_estimators': 1000, 'subsample': 0.5}\n",
            "0.946667 (0.057339) with: {'learning_rate': 0.1, 'max_depth': 3, 'n_estimators': 1000, 'subsample': 0.7}\n",
            "0.956061 (0.052596) with: {'learning_rate': 0.1, 'max_depth': 3, 'n_estimators': 1000, 'subsample': 1.0}\n",
            "0.946667 (0.067979) with: {'learning_rate': 0.1, 'max_depth': 7, 'n_estimators': 10, 'subsample': 0.5}\n",
            "0.956061 (0.052596) with: {'learning_rate': 0.1, 'max_depth': 7, 'n_estimators': 10, 'subsample': 0.7}\n",
            "0.950000 (0.057436) with: {'learning_rate': 0.1, 'max_depth': 7, 'n_estimators': 10, 'subsample': 1.0}\n",
            "0.952727 (0.063350) with: {'learning_rate': 0.1, 'max_depth': 7, 'n_estimators': 100, 'subsample': 0.5}\n",
            "0.953030 (0.058592) with: {'learning_rate': 0.1, 'max_depth': 7, 'n_estimators': 100, 'subsample': 0.7}\n",
            "0.953030 (0.052596) with: {'learning_rate': 0.1, 'max_depth': 7, 'n_estimators': 100, 'subsample': 1.0}\n",
            "0.946667 (0.062884) with: {'learning_rate': 0.1, 'max_depth': 7, 'n_estimators': 1000, 'subsample': 0.5}\n",
            "0.956061 (0.058592) with: {'learning_rate': 0.1, 'max_depth': 7, 'n_estimators': 1000, 'subsample': 0.7}\n",
            "0.953030 (0.052596) with: {'learning_rate': 0.1, 'max_depth': 7, 'n_estimators': 1000, 'subsample': 1.0}\n",
            "0.947273 (0.065866) with: {'learning_rate': 0.1, 'max_depth': 9, 'n_estimators': 10, 'subsample': 0.5}\n",
            "0.940606 (0.061824) with: {'learning_rate': 0.1, 'max_depth': 9, 'n_estimators': 10, 'subsample': 0.7}\n",
            "0.943333 (0.062619) with: {'learning_rate': 0.1, 'max_depth': 9, 'n_estimators': 10, 'subsample': 1.0}\n",
            "0.950000 (0.062973) with: {'learning_rate': 0.1, 'max_depth': 9, 'n_estimators': 100, 'subsample': 0.5}\n",
            "0.956061 (0.058592) with: {'learning_rate': 0.1, 'max_depth': 9, 'n_estimators': 100, 'subsample': 0.7}\n",
            "0.953333 (0.052315) with: {'learning_rate': 0.1, 'max_depth': 9, 'n_estimators': 100, 'subsample': 1.0}\n",
            "0.946970 (0.061751) with: {'learning_rate': 0.1, 'max_depth': 9, 'n_estimators': 1000, 'subsample': 0.5}\n",
            "0.956364 (0.052297) with: {'learning_rate': 0.1, 'max_depth': 9, 'n_estimators': 1000, 'subsample': 0.7}\n",
            "0.946667 (0.052315) with: {'learning_rate': 0.1, 'max_depth': 9, 'n_estimators': 1000, 'subsample': 1.0}\n"
          ],
          "name": "stdout"
        }
      ]
    },
    {
      "cell_type": "code",
      "metadata": {
        "id": "kRuc7Owu0-f3",
        "outputId": "ca100949-af17-435c-c68c-4a7883bd8283",
        "colab": {
          "base_uri": "https://localhost:8080/",
          "height": 51
        }
      },
      "source": [
        "# Print the tuned parameters and score \n",
        "print(\"Stochastic Gradient Boosting: {}\".format(grid_result.best_params_)) \n",
        "print(\"Best score is {}\".format(grid_result.best_score_)) "
      ],
      "execution_count": null,
      "outputs": [
        {
          "output_type": "stream",
          "text": [
            "Stochastic Gradient Boosting: {'learning_rate': 0.01, 'max_depth': 9, 'n_estimators': 1000, 'subsample': 0.7}\n",
            "Best score is 0.9593939393939392\n"
          ],
          "name": "stdout"
        }
      ]
    },
    {
      "cell_type": "code",
      "metadata": {
        "id": "8S28Qqst0_zc"
      },
      "source": [
        ""
      ],
      "execution_count": null,
      "outputs": []
    }
  ]
}