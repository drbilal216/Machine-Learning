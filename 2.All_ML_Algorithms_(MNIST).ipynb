{
  "nbformat": 4,
  "nbformat_minor": 0,
  "metadata": {
    "colab": {
      "name": "2.All ML Algorithms (MNIST).ipynb",
      "provenance": [],
      "collapsed_sections": []
    },
    "kernelspec": {
      "name": "python3",
      "display_name": "Python 3"
    },
    "accelerator": "GPU"
  },
  "cells": [
    {
      "cell_type": "markdown",
      "metadata": {
        "id": "POsELXai3w-J"
      },
      "source": [
        "### Implementing Ml algorithm on Picture data"
      ]
    },
    {
      "cell_type": "markdown",
      "metadata": {
        "id": "_l1XFNAC_7mA"
      },
      "source": [
        "\n",
        "## Mnist Dataset\n",
        "The dataset contain gray-scale images of hand-drawn digits, from zero through nine.\n",
        "\n",
        "Each image is 28 pixels in height and 28 pixels in width, for a total of 784 pixels in total. Each pixel has a single pixel-value associated with it, indicating the lightness or darkness of that pixel, with higher numbers meaning darker. This pixel-value is an integer between 0 and 255, inclusive."
      ]
    },
    {
      "cell_type": "code",
      "metadata": {
        "id": "dajm7ctJ352s"
      },
      "source": [
        "import numpy as np\n",
        "import pandas as pd\n",
        "import tensorflow as tf\n",
        "import matplotlib.pyplot as plt"
      ],
      "execution_count": null,
      "outputs": []
    },
    {
      "cell_type": "code",
      "metadata": {
        "id": "_uocmCQE3_fp"
      },
      "source": [
        "from tensorflow.keras.datasets import mnist\n",
        "(x_train, y_train), (x_test, y_test) = mnist.load_data()"
      ],
      "execution_count": null,
      "outputs": []
    },
    {
      "cell_type": "code",
      "metadata": {
        "id": "S1s3VDMC4FvE",
        "outputId": "8ab3f260-7cce-4cf3-923a-b0d93f06ed95",
        "colab": {
          "base_uri": "https://localhost:8080/",
          "height": 85
        }
      },
      "source": [
        "print(\"Train features:\",x_train.shape)\n",
        "print(\"Train Labels:  \",y_train.shape)\n",
        "print(\"Test Features: \",x_test.shape)\n",
        "print(\"Test Labels:   \",y_test.shape)"
      ],
      "execution_count": null,
      "outputs": [
        {
          "output_type": "stream",
          "text": [
            "Train features: (60000, 28, 28)\n",
            "Train Labels:   (60000,)\n",
            "Test Features:  (10000, 28, 28)\n",
            "Test Labels:    (10000,)\n"
          ],
          "name": "stdout"
        }
      ]
    },
    {
      "cell_type": "code",
      "metadata": {
        "id": "hvZmDNmC4YMJ",
        "outputId": "d5d286c2-53c8-4f70-e608-35a0e9ef32f6",
        "colab": {
          "base_uri": "https://localhost:8080/",
          "height": 265
        }
      },
      "source": [
        "# Visualizing data\n",
        "import matplotlib.pyplot as plt\n",
        "digit  = x_test[7]\n",
        "plt.imshow(digit,cmap = plt.cm.binary)\n",
        "plt.show()"
      ],
      "execution_count": null,
      "outputs": [
        {
          "output_type": "display_data",
          "data": {
            "image/png": "[encoded data removed]",
            "text/plain": [
              "<Figure size 432x288 with 1 Axes>"
            ]
          },
          "metadata": {
            "tags": [],
            "needs_background": "light"
          }
        }
      ]
    },
    {
      "cell_type": "code",
      "metadata": {
        "id": "ibEHN9O84jGz",
        "outputId": "f7ba0a9b-51ba-4ad2-a1ad-1b4ee791e69c",
        "colab": {
          "base_uri": "https://localhost:8080/",
          "height": 34
        }
      },
      "source": [
        "# Its label\n",
        "y_test[7]"
      ],
      "execution_count": null,
      "outputs": [
        {
          "output_type": "execute_result",
          "data": {
            "text/plain": [
              "9"
            ]
          },
          "metadata": {
            "tags": []
          },
          "execution_count": 6
        }
      ]
    },
    {
      "cell_type": "markdown",
      "metadata": {
        "id": "YWwbBCv75FlL"
      },
      "source": [
        "### Normalizing Data\n",
        "Changing Dimension from 3 into 2\n",
        "As you can see above there are multiple values between 0 to 255 and 255 is Max value so what we're doing is managing the values between 0 and 1 by dividing the train sets by 255.\n"
      ]
    },
    {
      "cell_type": "code",
      "metadata": {
        "id": "wgZJY0Pe4uQC",
        "outputId": "d07670d9-7eee-4aba-c03a-9fbaed38e859",
        "colab": {
          "base_uri": "https://localhost:8080/",
          "height": 51
        }
      },
      "source": [
        "new_x_train = x_train.reshape(60000, 28 * 28)\n",
        "new_x_test = x_test.reshape(10000, 28 * 28)\n",
        "new_x_train, new_x_test = new_x_train/255.0, new_x_test/255.0\n",
        "\n",
        "print(\"Train features:\",new_x_train.shape)\n",
        "print(\"Test Features: \",new_x_test.shape)"
      ],
      "execution_count": null,
      "outputs": [
        {
          "output_type": "stream",
          "text": [
            "Train features: (60000, 784)\n",
            "Test Features:  (10000, 784)\n"
          ],
          "name": "stdout"
        }
      ]
    },
    {
      "cell_type": "markdown",
      "metadata": {
        "id": "QEssC1g35I-6"
      },
      "source": [
        "### One hot encoding"
      ]
    },
    {
      "cell_type": "code",
      "metadata": {
        "id": "AwJ7jbeq5H2a"
      },
      "source": [
        "from tensorflow.keras.utils import to_categorical\n",
        "new_y_train = to_categorical(y_train) \n",
        "new_y_test = to_categorical(y_test)"
      ],
      "execution_count": null,
      "outputs": []
    },
    {
      "cell_type": "code",
      "metadata": {
        "id": "UmzeS23B5P7M"
      },
      "source": [
        "##################"
      ],
      "execution_count": null,
      "outputs": []
    },
    {
      "cell_type": "code",
      "metadata": {
        "id": "2kD1T9pH9C7X"
      },
      "source": [
        "X_trainL = new_x_train\n",
        "y_trainL = new_y_train\n",
        "X_testL = new_x_test\n",
        "y_testL = new_y_test"
      ],
      "execution_count": null,
      "outputs": []
    },
    {
      "cell_type": "markdown",
      "metadata": {
        "id": "10gJJ_1_84B8"
      },
      "source": [
        "### Algorithm 1 – Linear Regression"
      ]
    },
    {
      "cell_type": "code",
      "metadata": {
        "id": "be0OQ_yX5QnM"
      },
      "source": [
        "from sklearn.linear_model import LinearRegression\n",
        "modelLR = LinearRegression()\n",
        "modelLR.fit(X_trainL, y_trainL)\n",
        "Y_pred = modelLR.predict(X_testL)\n",
        "#print(Y_pred)"
      ],
      "execution_count": null,
      "outputs": []
    },
    {
      "cell_type": "code",
      "metadata": {
        "id": "b0SZCJ1O9Yqd",
        "outputId": "8e21b5c9-5747-43a6-841b-619db1bda31a",
        "colab": {
          "base_uri": "https://localhost:8080/",
          "height": 425
        }
      },
      "source": [
        "from sklearn import metrics\n",
        "#calculating the residuals\n",
        "\n",
        "print('y-intercept             :' , modelLR.intercept_,\"\\n\")\n",
        "print('beta coefficients       :' , modelLR.coef_,\"\\n\")\n",
        "print('Mean Abs Error MAE      :' ,metrics.mean_absolute_error(y_testL,Y_pred),\"\\n\")\n",
        "print('Mean Sqrt Error MSE     :' ,metrics.mean_squared_error(y_testL,Y_pred),\"\\n\")\n",
        "print('Root Mean Sqrt Error RMSE:' ,np.sqrt(metrics.mean_squared_error(y_testL,Y_pred)),\"\\n\")\n",
        "print('r2 value                :' ,metrics.r2_score(y_testL,Y_pred))"
      ],
      "execution_count": null,
      "outputs": [
        {
          "output_type": "stream",
          "text": [
            "y-intercept             : [ 0.15837643  0.23967123  0.04920914  0.0198412   0.21118171  0.18862364\n",
            "  0.06904376  0.14137067 -0.12167555  0.04570506] \n",
            "\n",
            "beta coefficients       : [[-6.05766130e+06  3.05582363e+11 -1.37397369e+11 ...  0.00000000e+00\n",
            "   0.00000000e+00  0.00000000e+00]\n",
            " [ 1.95956071e+06 -7.71946196e+10  7.14628261e+11 ...  0.00000000e+00\n",
            "   0.00000000e+00  0.00000000e+00]\n",
            " [ 6.62094027e+06  7.28664146e+11  1.31217323e+11 ...  0.00000000e+00\n",
            "   0.00000000e+00  0.00000000e+00]\n",
            " ...\n",
            " [-1.53359013e+06 -3.23121335e+11  1.74891077e+11 ...  0.00000000e+00\n",
            "   0.00000000e+00  0.00000000e+00]\n",
            " [-4.08283705e+06  3.54699392e+10 -4.93112550e+11 ...  0.00000000e+00\n",
            "   0.00000000e+00  0.00000000e+00]\n",
            " [-2.57310545e+05 -2.15752423e+11  1.11734398e+11 ...  0.00000000e+00\n",
            "   0.00000000e+00  0.00000000e+00]] \n",
            "\n",
            "Mean Abs Error MAE      : 131838.9497499636 \n",
            "\n",
            "Mean Sqrt Error MSE     : 270189305173933.2 \n",
            "\n",
            "Root Mean Sqrt Error RMSE: 16437436.088816686 \n",
            "\n",
            "r2 value                : -2889042401407613.5\n"
          ],
          "name": "stdout"
        }
      ]
    },
    {
      "cell_type": "code",
      "metadata": {
        "id": "Q59ANfzR8uqj"
      },
      "source": [
        "#####################"
      ],
      "execution_count": null,
      "outputs": []
    },
    {
      "cell_type": "code",
      "metadata": {
        "id": "nc7WGfEd7TnY"
      },
      "source": [
        "X_train = new_x_train\n",
        "y_train = y_train\n",
        "X_test = new_x_test\n",
        "y_test = y_test"
      ],
      "execution_count": null,
      "outputs": []
    },
    {
      "cell_type": "markdown",
      "metadata": {
        "id": "Av6qkHYC8kXW"
      },
      "source": [
        "## 2. Decision Tree's"
      ]
    },
    {
      "cell_type": "code",
      "metadata": {
        "id": "gXfcs2BY5x-V"
      },
      "source": [
        "from sklearn.tree import DecisionTreeClassifier\n",
        "\n",
        "Model = DecisionTreeClassifier()\n",
        "Model.fit(X_train, y_train) # labels here are in string form\n",
        "y_pred = Model.predict(X_test)\n",
        "#print(y_pred)"
      ],
      "execution_count": null,
      "outputs": []
    },
    {
      "cell_type": "code",
      "metadata": {
        "id": "HQqmW9KO8Pel",
        "outputId": "a902ae2b-d15d-4604-b1c0-888ebb2b1559",
        "colab": {
          "base_uri": "https://localhost:8080/",
          "height": 510
        }
      },
      "source": [
        "from sklearn.metrics import classification_report\n",
        "from sklearn.metrics import confusion_matrix\n",
        "from sklearn.metrics import accuracy_score\n",
        "\n",
        "# Summary of the predictions made by the classifier\n",
        "print(classification_report(y_test, y_pred))\n",
        "print(confusion_matrix(y_test, y_pred))\n",
        "print()\n",
        "# Accuracy score\n",
        "print('accuracy is',accuracy_score(y_pred,y_test))"
      ],
      "execution_count": null,
      "outputs": [
        {
          "output_type": "stream",
          "text": [
            "              precision    recall  f1-score   support\n",
            "\n",
            "           0       0.91      0.94      0.93       980\n",
            "           1       0.96      0.97      0.96      1135\n",
            "           2       0.87      0.86      0.86      1032\n",
            "           3       0.84      0.86      0.85      1010\n",
            "           4       0.87      0.87      0.87       982\n",
            "           5       0.83      0.84      0.83       892\n",
            "           6       0.91      0.89      0.90       958\n",
            "           7       0.92      0.90      0.91      1028\n",
            "           8       0.83      0.81      0.82       974\n",
            "           9       0.85      0.85      0.85      1009\n",
            "\n",
            "    accuracy                           0.88     10000\n",
            "   macro avg       0.88      0.88      0.88     10000\n",
            "weighted avg       0.88      0.88      0.88     10000\n",
            "\n",
            "[[ 926    0    5    6    5   11    8    2    8    9]\n",
            " [   2 1096    9    2    2    5    5    5    8    1]\n",
            " [  11    7  884   28   16   11   13   27   24   11]\n",
            " [  10    6   33  866    7   42    4    8   19   15]\n",
            " [   9    4   11    8  858    6   14    5   21   46]\n",
            " [  17    6    4   42    6  746   21    4   25   21]\n",
            " [  15    6    9    6   24   22  849    1   23    3]\n",
            " [   2   12   23   17    9    5    2  924   10   24]\n",
            " [  14    6   25   36   21   36   13   11  786   26]\n",
            " [  14    3    9   19   39   12    5   21   26  861]]\n",
            "\n",
            "accuracy is 0.8796\n"
          ],
          "name": "stdout"
        }
      ]
    },
    {
      "cell_type": "code",
      "metadata": {
        "id": "GY9z1fEH8Pta",
        "outputId": "d59e9c42-ad91-433f-82f4-87d021e88d07",
        "colab": {
          "base_uri": "https://localhost:8080/",
          "height": 51
        }
      },
      "source": [
        "# This code will work with almost all the models below\n",
        "import numpy as np\n",
        "predict = 41\n",
        "print(\"Predicted Label :\",y_pred[predict])   # predictd\n",
        "print(\"Actual Label :\",y_test[predict])   # Actual"
      ],
      "execution_count": null,
      "outputs": [
        {
          "output_type": "stream",
          "text": [
            "Predicted Label : 7\n",
            "Actual Label : 7\n"
          ],
          "name": "stdout"
        }
      ]
    },
    {
      "cell_type": "markdown",
      "metadata": {
        "id": "4hTIzY61-Aml"
      },
      "source": [
        "## Algorithm 3- RandomForest"
      ]
    },
    {
      "cell_type": "code",
      "metadata": {
        "id": "ikgvaKoY8Meq",
        "outputId": "6685bd06-dc2f-4125-a4fd-b0ecd3e294a8",
        "colab": {
          "base_uri": "https://localhost:8080/",
          "height": 510
        }
      },
      "source": [
        "from sklearn.ensemble import RandomForestClassifier\n",
        "Model=RandomForestClassifier(max_depth=2)\n",
        "Model.fit(X_train,y_train)\n",
        "y_pred=Model.predict(X_test)\n",
        "\n",
        "# Summary of the predictions made by the classifier\n",
        "print(classification_report(y_test,y_pred))\n",
        "print(confusion_matrix(y_pred,y_test))\n",
        "print()\n",
        "#Accuracy Score\n",
        "print('accuracy is ',accuracy_score(y_pred,y_test))"
      ],
      "execution_count": null,
      "outputs": [
        {
          "output_type": "stream",
          "text": [
            "              precision    recall  f1-score   support\n",
            "\n",
            "           0       0.64      0.99      0.77       980\n",
            "           1       0.52      0.99      0.68      1135\n",
            "           2       0.79      0.54      0.64      1032\n",
            "           3       0.60      0.69      0.64      1010\n",
            "           4       0.56      0.67      0.61       982\n",
            "           5       0.95      0.06      0.11       892\n",
            "           6       0.82      0.55      0.66       958\n",
            "           7       0.71      0.81      0.76      1028\n",
            "           8       0.80      0.47      0.59       974\n",
            "           9       0.57      0.44      0.50      1009\n",
            "\n",
            "    accuracy                           0.63     10000\n",
            "   macro avg       0.69      0.62      0.60     10000\n",
            "weighted avg       0.69      0.63      0.60     10000\n",
            "\n",
            "[[ 967    0   74   65   20  153  162   31   25   24]\n",
            " [   4 1128  295  153   31  131   81   77  257   32]\n",
            " [   1    0  561   18   17    5   40   38   30    3]\n",
            " [   1    2   23  701   12  317   28    0   64   29]\n",
            " [   0    0    9    6  660   69   41   22   31  345]\n",
            " [   0    0    0    3    0   53    0    0    0    0]\n",
            " [   0    1   15    1   31   27  523    0   30   10]\n",
            " [   6    3   43   28   46   42   43  835   14  110]\n",
            " [   1    1    9   20    5   41   12   14  459   13]\n",
            " [   0    0    3   15  160   54   28   11   64  443]]\n",
            "\n",
            "accuracy is  0.633\n"
          ],
          "name": "stdout"
        }
      ]
    },
    {
      "cell_type": "markdown",
      "metadata": {
        "id": "pMa74Zl--K3E"
      },
      "source": [
        "### Algorithm 4- Logistic Regression"
      ]
    },
    {
      "cell_type": "code",
      "metadata": {
        "id": "DSBxwc7J-HVS",
        "outputId": "a8cf9a7a-7146-4eb3-b67f-e7486f84ff35",
        "colab": {
          "base_uri": "https://localhost:8080/",
          "height": 646
        }
      },
      "source": [
        "# LogisticRegression\n",
        "from sklearn.linear_model import LogisticRegression\n",
        "Model = LogisticRegression()\n",
        "Model.fit(X_train, y_train)\n",
        "\n",
        "y_pred = Model.predict(X_test)\n",
        "\n",
        "# Summary of the predictions made by the classifier\n",
        "print(classification_report(y_test, y_pred))\n",
        "print(confusion_matrix(y_test, y_pred))\n",
        "print()\n",
        "# Accuracy score\n",
        "print('accuracy is',accuracy_score(y_pred,y_test))"
      ],
      "execution_count": null,
      "outputs": [
        {
          "output_type": "stream",
          "text": [
            "              precision    recall  f1-score   support\n",
            "\n",
            "           0       0.95      0.98      0.96       980\n",
            "           1       0.96      0.98      0.97      1135\n",
            "           2       0.93      0.90      0.91      1032\n",
            "           3       0.90      0.91      0.91      1010\n",
            "           4       0.94      0.93      0.93       982\n",
            "           5       0.91      0.88      0.89       892\n",
            "           6       0.94      0.95      0.94       958\n",
            "           7       0.94      0.92      0.93      1028\n",
            "           8       0.87      0.88      0.88       974\n",
            "           9       0.91      0.92      0.92      1009\n",
            "\n",
            "    accuracy                           0.93     10000\n",
            "   macro avg       0.92      0.92      0.92     10000\n",
            "weighted avg       0.93      0.93      0.93     10000\n",
            "\n",
            "[[ 959    0    0    3    1    7    5    4    1    0]\n",
            " [   0 1111    4    2    0    2    3    2   11    0]\n",
            " [   6    9  926   16    9    4   13    6   39    4]\n",
            " [   4    1   18  917    1   22    4   11   25    7]\n",
            " [   1    1    7    3  914    0   10    4   10   32]\n",
            " [  10    2    3   34    7  783   14    6   29    4]\n",
            " [   9    3    8    2    7   14  912    2    1    0]\n",
            " [   1    8   24    5    7    1    0  950    3   29]\n",
            " [   9   11    8   23    7   25   12    7  861   11]\n",
            " [   9    8    0   11   24    6    0   19    7  925]]\n",
            "\n",
            "accuracy is 0.9258\n"
          ],
          "name": "stdout"
        },
        {
          "output_type": "stream",
          "text": [
            "/usr/local/lib/python3.6/dist-packages/sklearn/linear_model/_logistic.py:940: ConvergenceWarning: lbfgs failed to converge (status=1):\n",
            "STOP: TOTAL NO. of ITERATIONS REACHED LIMIT.\n",
            "\n",
            "Increase the number of iterations (max_iter) or scale the data as shown in:\n",
            "    https://scikit-learn.org/stable/modules/preprocessing.html\n",
            "Please also refer to the documentation for alternative solver options:\n",
            "    https://scikit-learn.org/stable/modules/linear_model.html#logistic-regression\n",
            "  extra_warning_msg=_LOGISTIC_SOLVER_CONVERGENCE_MSG)\n"
          ],
          "name": "stderr"
        }
      ]
    },
    {
      "cell_type": "markdown",
      "metadata": {
        "id": "QzwOwfAG-Qg1"
      },
      "source": [
        "### Algorithm 5- K Nearest Neighbors"
      ]
    },
    {
      "cell_type": "code",
      "metadata": {
        "id": "4_8-4feT-Ngp"
      },
      "source": [
        "# its taking alot of time\n",
        "from sklearn.neighbors import KNeighborsClassifier\n",
        "\n",
        "Model = KNeighborsClassifier(n_neighbors=8)\n",
        "Model.fit(X_train, y_train)\n",
        "\n",
        "y_pred = Model.predict(X_test)\n",
        "\n",
        "# Summary of the predictions made by the classifier\n",
        "print(classification_report(y_test, y_pred))\n",
        "print(confusion_matrix(y_test, y_pred))\n",
        "print()\n",
        "# Accuracy score\n",
        "print('accuracy is',accuracy_score(y_pred,y_test))"
      ],
      "execution_count": null,
      "outputs": []
    },
    {
      "cell_type": "markdown",
      "metadata": {
        "id": "r_20ZBW0-YSt"
      },
      "source": [
        "### Algorithm 6- Naive Bayes"
      ]
    },
    {
      "cell_type": "code",
      "metadata": {
        "id": "XvIpEUOA-XoU",
        "outputId": "6074b33d-6abc-4b84-d721-bb209a92c62d",
        "colab": {
          "base_uri": "https://localhost:8080/",
          "height": 510
        }
      },
      "source": [
        "# Naive Bayes\n",
        "from sklearn.naive_bayes import GaussianNB\n",
        "Model = GaussianNB()\n",
        "Model.fit(X_train, y_train)\n",
        "\n",
        "y_pred = Model.predict(X_test)\n",
        "\n",
        "# Summary of the predictions made by the classifier\n",
        "print(classification_report(y_test, y_pred))\n",
        "print(confusion_matrix(y_test, y_pred))\n",
        "print()\n",
        "# Accuracy score\n",
        "print('accuracy is',accuracy_score(y_pred,y_test))"
      ],
      "execution_count": null,
      "outputs": [
        {
          "output_type": "stream",
          "text": [
            "              precision    recall  f1-score   support\n",
            "\n",
            "           0       0.79      0.89      0.84       980\n",
            "           1       0.85      0.95      0.90      1135\n",
            "           2       0.90      0.26      0.40      1032\n",
            "           3       0.71      0.35      0.47      1010\n",
            "           4       0.88      0.17      0.29       982\n",
            "           5       0.55      0.05      0.09       892\n",
            "           6       0.65      0.93      0.77       958\n",
            "           7       0.88      0.27      0.42      1028\n",
            "           8       0.28      0.67      0.40       974\n",
            "           9       0.37      0.95      0.53      1009\n",
            "\n",
            "    accuracy                           0.56     10000\n",
            "   macro avg       0.69      0.55      0.51     10000\n",
            "weighted avg       0.69      0.56      0.52     10000\n",
            "\n",
            "[[ 870    0    3    5    2    5   31    1   35   28]\n",
            " [   0 1079    2    1    0    0   10    0   38    5]\n",
            " [  79   25  266   91    5    2  269    4  271   20]\n",
            " [  32   39    6  353    2    3   51    8  409  107]\n",
            " [  19    2    5    4  168    7   63    7  210  497]\n",
            " [  71   25    1   20    3   44   40    2  586  100]\n",
            " [  12   12    3    1    1    7  895    0   26    1]\n",
            " [   0   15    2   10    5    1    5  280   39  671]\n",
            " [  13   72    3    7    3   11   12    4  648  201]\n",
            " [   5    7    3    6    1    0    1   13   18  955]]\n",
            "\n",
            "accuracy is 0.5558\n"
          ],
          "name": "stdout"
        }
      ]
    },
    {
      "cell_type": "markdown",
      "metadata": {
        "id": "y0FEw6oS-fjk"
      },
      "source": [
        "### Algorithm 7- Support Vector Machines"
      ]
    },
    {
      "cell_type": "code",
      "metadata": {
        "id": "g8sqAgNg-S2S"
      },
      "source": [
        "# taking a lot of time\n",
        "# Support Vector Machine\n",
        "from sklearn.svm import SVC\n",
        "\n",
        "Model = SVC()\n",
        "Model.fit(X_train, y_train)\n",
        "\n",
        "y_pred = Model.predict(X_test)\n",
        "\n",
        "# Summary of the predictions made by the classifier\n",
        "print(classification_report(y_test, y_pred))\n",
        "print(confusion_matrix(y_test, y_pred))\n",
        "print()\n",
        "# Accuracy score\n",
        "print('accuracy is',accuracy_score(y_pred,y_test))"
      ],
      "execution_count": null,
      "outputs": []
    },
    {
      "cell_type": "markdown",
      "metadata": {
        "id": "mxO3rURQ-lcm"
      },
      "source": [
        "### Algorithm 8- Radius Neighbors Classifier"
      ]
    },
    {
      "cell_type": "code",
      "metadata": {
        "id": "feVsDJ08-hxS"
      },
      "source": [
        "# taking a lot of time\n",
        "from sklearn.neighbors import  RadiusNeighborsClassifier\n",
        "Model=RadiusNeighborsClassifier(radius=8.0)\n",
        "Model.fit(X_train,y_train)\n",
        "y_pred=Model.predict(X_test)\n",
        "\n",
        "#summary of the predictions made by the classifier\n",
        "print(classification_report(y_test,y_pred))\n",
        "print(confusion_matrix(y_test,y_pred))\n",
        "print()\n",
        "#Accouracy score\n",
        "print('accuracy is ', accuracy_score(y_test,y_pred))"
      ],
      "execution_count": null,
      "outputs": []
    },
    {
      "cell_type": "markdown",
      "metadata": {
        "id": "Di3obacr-q_d"
      },
      "source": [
        "#Algorithm 9- Passive Aggressive Classifier"
      ]
    },
    {
      "cell_type": "code",
      "metadata": {
        "id": "ca4s1a7I-n2q",
        "outputId": "2387d299-a8f9-44db-aa37-f8a88e8bd381",
        "colab": {
          "base_uri": "https://localhost:8080/",
          "height": 510
        }
      },
      "source": [
        "from sklearn.linear_model import PassiveAggressiveClassifier\n",
        "Model = PassiveAggressiveClassifier()\n",
        "Model.fit(X_train, y_train)\n",
        "\n",
        "y_pred = Model.predict(X_test)\n",
        "\n",
        "# Summary of the predictions made by the classifier\n",
        "print(classification_report(y_test, y_pred))\n",
        "print(confusion_matrix(y_test, y_pred))\n",
        "print()\n",
        "# Accuracy score\n",
        "print('accuracy is',accuracy_score(y_pred,y_test))"
      ],
      "execution_count": null,
      "outputs": [
        {
          "output_type": "stream",
          "text": [
            "              precision    recall  f1-score   support\n",
            "\n",
            "           0       0.93      0.98      0.95       980\n",
            "           1       0.95      0.98      0.97      1135\n",
            "           2       0.86      0.89      0.88      1032\n",
            "           3       0.84      0.90      0.87      1010\n",
            "           4       0.83      0.94      0.88       982\n",
            "           5       0.93      0.76      0.84       892\n",
            "           6       0.97      0.93      0.95       958\n",
            "           7       0.95      0.84      0.89      1028\n",
            "           8       0.81      0.84      0.82       974\n",
            "           9       0.85      0.82      0.84      1009\n",
            "\n",
            "    accuracy                           0.89     10000\n",
            "   macro avg       0.89      0.89      0.89     10000\n",
            "weighted avg       0.89      0.89      0.89     10000\n",
            "\n",
            "[[ 956    0    3    3    2    4    2    1    7    2]\n",
            " [   0 1113    5    6    1    2    3    0    5    0]\n",
            " [   8    7  920   34   19    2    5    5   30    2]\n",
            " [   7    0   29  911    4   11    2    7   31    8]\n",
            " [   1    2    6    3  922    0    6    2   11   29]\n",
            " [  19    7    3   61   17  679   11    6   69   20]\n",
            " [  15    4   17    2   12   11  887    0   10    0]\n",
            " [   4    7   46   17   23    0    0  859    7   65]\n",
            " [   8   21   35   27   21   17    3    4  822   16]\n",
            " [   9    6    6   24   91    5    0   16   27  825]]\n",
            "\n",
            "accuracy is 0.8894\n"
          ],
          "name": "stdout"
        }
      ]
    },
    {
      "cell_type": "markdown",
      "metadata": {
        "id": "IjA7wQBK-xbm"
      },
      "source": [
        "### Algorithm 10- BernoulliNB"
      ]
    },
    {
      "cell_type": "code",
      "metadata": {
        "id": "zqH7i3F0-tOr",
        "outputId": "399a3b92-4cd4-4812-fc1e-5d7f6d1ae068",
        "colab": {
          "base_uri": "https://localhost:8080/",
          "height": 510
        }
      },
      "source": [
        "# BernoulliNB\n",
        "from sklearn.naive_bayes import BernoulliNB\n",
        "Model = BernoulliNB()\n",
        "Model.fit(X_train, y_train)\n",
        "\n",
        "y_pred = Model.predict(X_test)\n",
        "\n",
        "# Summary of the predictions made by the classifier\n",
        "print(classification_report(y_test, y_pred))\n",
        "print(confusion_matrix(y_test, y_pred))\n",
        "print()\n",
        "# Accuracy score\n",
        "print('accuracy is',accuracy_score(y_pred,y_test))"
      ],
      "execution_count": null,
      "outputs": [
        {
          "output_type": "stream",
          "text": [
            "              precision    recall  f1-score   support\n",
            "\n",
            "           0       0.91      0.91      0.91       980\n",
            "           1       0.90      0.96      0.93      1135\n",
            "           2       0.89      0.83      0.86      1032\n",
            "           3       0.76      0.84      0.80      1010\n",
            "           4       0.83      0.81      0.82       982\n",
            "           5       0.82      0.70      0.76       892\n",
            "           6       0.89      0.89      0.89       958\n",
            "           7       0.93      0.85      0.89      1028\n",
            "           8       0.75      0.78      0.77       974\n",
            "           9       0.75      0.84      0.79      1009\n",
            "\n",
            "    accuracy                           0.84     10000\n",
            "   macro avg       0.84      0.84      0.84     10000\n",
            "weighted avg       0.84      0.84      0.84     10000\n",
            "\n",
            "[[ 887    0    4    7    2   41   16    1   22    0]\n",
            " [   0 1085   10    5    0    9    6    0   19    1]\n",
            " [  19    8  852   29   17    4   32   14   55    2]\n",
            " [   5   15   34  844    0   13    9   15   49   26]\n",
            " [   2    6    4    0  795    4   21    1   23  126]\n",
            " [  23   12    7  129   30  627   16    8   21   19]\n",
            " [  18   18   15    2   13   35  851    0    6    0]\n",
            " [   1   24   14    4   15    0    0  871   27   72]\n",
            " [  16   23   13   76   17   22    7    6  758   36]\n",
            " [   9   13    5    9   74    8    0   24   24  843]]\n",
            "\n",
            "accuracy is 0.8413\n"
          ],
          "name": "stdout"
        }
      ]
    },
    {
      "cell_type": "markdown",
      "metadata": {
        "id": "5G7ExZ1g-3kO"
      },
      "source": [
        "### Algorithm 11- ExtraTreeClassifier"
      ]
    },
    {
      "cell_type": "code",
      "metadata": {
        "id": "G32Qp2Kt-zsp",
        "outputId": "3621b89c-20bf-4e73-ca0b-6dfde122169b",
        "colab": {
          "base_uri": "https://localhost:8080/",
          "height": 510
        }
      },
      "source": [
        "# ExtraTreeClassifier\n",
        "from sklearn.tree import ExtraTreeClassifier\n",
        "\n",
        "Model = ExtraTreeClassifier()\n",
        "\n",
        "Model.fit(X_train, y_train)\n",
        "\n",
        "y_pred = Model.predict(X_test)\n",
        "\n",
        "# Summary of the predictions made by the classifier\n",
        "print(classification_report(y_test, y_pred))\n",
        "print(confusion_matrix(y_test, y_pred))\n",
        "print()\n",
        "# Accuracy score\n",
        "print('accuracy is',accuracy_score(y_pred,y_test))"
      ],
      "execution_count": null,
      "outputs": [
        {
          "output_type": "stream",
          "text": [
            "              precision    recall  f1-score   support\n",
            "\n",
            "           0       0.91      0.90      0.90       980\n",
            "           1       0.95      0.96      0.96      1135\n",
            "           2       0.83      0.80      0.82      1032\n",
            "           3       0.78      0.80      0.79      1010\n",
            "           4       0.79      0.81      0.80       982\n",
            "           5       0.75      0.75      0.75       892\n",
            "           6       0.83      0.85      0.84       958\n",
            "           7       0.86      0.85      0.86      1028\n",
            "           8       0.76      0.74      0.75       974\n",
            "           9       0.78      0.79      0.79      1009\n",
            "\n",
            "    accuracy                           0.83     10000\n",
            "   macro avg       0.83      0.83      0.83     10000\n",
            "weighted avg       0.83      0.83      0.83     10000\n",
            "\n",
            "[[ 882    0   17   11    4   16   23    4    8   15]\n",
            " [   0 1093    8    9    2    4   11    1    5    2]\n",
            " [  17    7  826   41   21   14   31   25   35   15]\n",
            " [   6   10   21  806    5   67    7   16   45   27]\n",
            " [   3    4   14   10  799   17   20   29   19   67]\n",
            " [   8    5   15   54   27  665   25   10   52   31]\n",
            " [  25    5   20    6   26   17  814    7   27   11]\n",
            " [   6    7   34   16   21    7    7  876   16   38]\n",
            " [  11    8   31   57   26   51   28   19  719   24]\n",
            " [  12    6    7   19   77   28   11   27   20  802]]\n",
            "\n",
            "accuracy is 0.8282\n"
          ],
          "name": "stdout"
        }
      ]
    },
    {
      "cell_type": "markdown",
      "metadata": {
        "id": "cFwaEijp-81m"
      },
      "source": [
        "### Algorithm 12- Bagging classifier"
      ]
    },
    {
      "cell_type": "code",
      "metadata": {
        "id": "YdvwuSOlIpuq"
      },
      "source": [
        "# taking a lot of time\n",
        "from sklearn.ensemble import BaggingClassifier\n",
        "Model=BaggingClassifier()\n",
        "Model.fit(X_train,y_train)\n",
        "y_pred=Model.predict(X_test)\n",
        "\n",
        "# Summary of the predictions made by the classifier\n",
        "print(classification_report(y_test,y_pred))\n",
        "print(confusion_matrix(y_pred,y_test))\n",
        "print()\n",
        "#Accuracy Score\n",
        "print('accuracy is ',accuracy_score(y_pred,y_test))"
      ],
      "execution_count": null,
      "outputs": []
    },
    {
      "cell_type": "markdown",
      "metadata": {
        "id": "gDaiN44w_B7j"
      },
      "source": [
        "### Algorithm 13-AdaBoost classifier\n"
      ]
    },
    {
      "cell_type": "code",
      "metadata": {
        "id": "6Bb_b-s_--4C",
        "outputId": "0ba33983-7241-4e37-8e79-643d55a57470",
        "colab": {
          "base_uri": "https://localhost:8080/",
          "height": 510
        }
      },
      "source": [
        "from sklearn.ensemble import AdaBoostClassifier\n",
        "Model=AdaBoostClassifier()\n",
        "Model.fit(X_train,y_train)\n",
        "y_pred=Model.predict(X_test)\n",
        "\n",
        "# Summary of the predictions made by the classifier\n",
        "print(classification_report(y_test,y_pred))\n",
        "print(confusion_matrix(y_pred,y_test))\n",
        "print()\n",
        "#Accuracy Score\n",
        "print('accuracy is ',accuracy_score(y_pred,y_test))"
      ],
      "execution_count": null,
      "outputs": [
        {
          "output_type": "stream",
          "text": [
            "              precision    recall  f1-score   support\n",
            "\n",
            "           0       0.84      0.90      0.87       980\n",
            "           1       0.85      0.94      0.90      1135\n",
            "           2       0.79      0.58      0.67      1032\n",
            "           3       0.68      0.67      0.68      1010\n",
            "           4       0.72      0.72      0.72       982\n",
            "           5       0.69      0.59      0.64       892\n",
            "           6       0.72      0.86      0.78       958\n",
            "           7       0.68      0.78      0.73      1028\n",
            "           8       0.66      0.68      0.67       974\n",
            "           9       0.62      0.55      0.58      1009\n",
            "\n",
            "    accuracy                           0.73     10000\n",
            "   macro avg       0.73      0.73      0.72     10000\n",
            "weighted avg       0.73      0.73      0.73     10000\n",
            "\n",
            "[[ 883    0   30   28    4   29   20    7   40    9]\n",
            " [   0 1070   35   32    2   32   10   16   48   11]\n",
            " [  25    3  596   19   17    6   35   23   11   23]\n",
            " [   3    8   32  678   14  122    6    8   91   32]\n",
            " [   4    3   18    2  708   27   26   14   15  161]\n",
            " [  28    1    8   92   16  526   32    7   34   18]\n",
            " [  23    4  208   30   10   22  822    1   22    1]\n",
            " [   3   25   25   33   80   19    1  804   18  169]\n",
            " [   3   21   75   74   35   71    6   20  661   34]\n",
            " [   8    0    5   22   96   38    0  128   34  551]]\n",
            "\n",
            "accuracy is  0.7299\n"
          ],
          "name": "stdout"
        }
      ]
    },
    {
      "cell_type": "markdown",
      "metadata": {
        "id": "FX64MEKO_G-Y"
      },
      "source": [
        "### Algorithm 14- Gradient Boosting Classifier"
      ]
    },
    {
      "cell_type": "code",
      "metadata": {
        "id": "jAXexUa6JoSj"
      },
      "source": [
        "# taking a lot of time\n",
        "from sklearn.ensemble import GradientBoostingClassifier\n",
        "Model=GradientBoostingClassifier()\n",
        "Model.fit(X_train,y_train)\n",
        "y_pred=Model.predict(X_test)\n",
        "\n",
        "# Summary of the predictions made by the classifier\n",
        "print(classification_report(y_test,y_pred))\n",
        "print(confusion_matrix(y_pred,y_test))\n",
        "print()\n",
        "#Accuracy Score\n",
        "print('accuracy is ',accuracy_score(y_pred,y_test))"
      ],
      "execution_count": null,
      "outputs": []
    },
    {
      "cell_type": "markdown",
      "metadata": {
        "id": "oaH8icJe_M9I"
      },
      "source": [
        "### Algorithm 15- Linear Discriminant Analysis"
      ]
    },
    {
      "cell_type": "code",
      "metadata": {
        "id": "cy9AJyh5_I0c",
        "outputId": "9c7990b5-6dd1-4435-b6f5-fea513ac42b3",
        "colab": {
          "base_uri": "https://localhost:8080/",
          "height": 510
        }
      },
      "source": [
        "from sklearn.discriminant_analysis import LinearDiscriminantAnalysis\n",
        "Model=LinearDiscriminantAnalysis()\n",
        "Model.fit(X_train,y_train)\n",
        "y_pred=Model.predict(X_test)\n",
        "\n",
        "# Summary of the predictions made by the classifier\n",
        "print(classification_report(y_test,y_pred))\n",
        "print(confusion_matrix(y_pred,y_test))\n",
        "print()\n",
        "#Accuracy Score\n",
        "print('accuracy is ',accuracy_score(y_pred,y_test))"
      ],
      "execution_count": null,
      "outputs": [
        {
          "output_type": "stream",
          "text": [
            "              precision    recall  f1-score   support\n",
            "\n",
            "           0       0.94      0.96      0.95       980\n",
            "           1       0.89      0.97      0.93      1135\n",
            "           2       0.92      0.79      0.85      1032\n",
            "           3       0.87      0.87      0.87      1010\n",
            "           4       0.84      0.90      0.87       982\n",
            "           5       0.84      0.82      0.83       892\n",
            "           6       0.91      0.89      0.90       958\n",
            "           7       0.91      0.84      0.88      1028\n",
            "           8       0.80      0.81      0.80       974\n",
            "           9       0.81      0.85      0.83      1009\n",
            "\n",
            "    accuracy                           0.87     10000\n",
            "   macro avg       0.87      0.87      0.87     10000\n",
            "weighted avg       0.87      0.87      0.87     10000\n",
            "\n",
            "[[ 940    0   15    5    0    8   12    2    7    9]\n",
            " [   0 1096   32    5   12    8    8   30   27    7]\n",
            " [   1    4  816   25    6    4   11   15    8    1]\n",
            " [   4    3   34  883    0   44    0    9   27   13]\n",
            " [   2    2   21    4  888   12   25   22   20   63]\n",
            " [  13    2    5   25    4  735   29    2   53    6]\n",
            " [   9    3   37    3    7   15  857    0   10    0]\n",
            " [   1    0    9   16    2   10    0  864    6   37]\n",
            " [   9   25   57   29   10   38   16    4  790   12]\n",
            " [   1    0    6   15   53   18    0   80   26  861]]\n",
            "\n",
            "accuracy is  0.873\n"
          ],
          "name": "stdout"
        }
      ]
    },
    {
      "cell_type": "markdown",
      "metadata": {
        "id": "-MuVP3xO_TFf"
      },
      "source": [
        "## Algorithm 16- Quadratic Discriminant Analysis\n"
      ]
    },
    {
      "cell_type": "code",
      "metadata": {
        "id": "nlxtwx5t_Pli",
        "outputId": "389a54a9-243f-4834-be13-0ff88bd900a6",
        "colab": {
          "base_uri": "https://localhost:8080/",
          "height": 544
        }
      },
      "source": [
        "from sklearn.discriminant_analysis import QuadraticDiscriminantAnalysis\n",
        "Model=QuadraticDiscriminantAnalysis()\n",
        "Model.fit(X_train,y_train)\n",
        "y_pred=Model.predict(X_test)\n",
        "\n",
        "# Summary of the predictions made by the classifier\n",
        "print(classification_report(y_test,y_pred))\n",
        "print(confusion_matrix(y_pred,y_test))\n",
        "print()\n",
        "#Accuracy Score\n",
        "print('accuracy is ',accuracy_score(y_pred,y_test))"
      ],
      "execution_count": null,
      "outputs": [
        {
          "output_type": "stream",
          "text": [
            "/usr/local/lib/python3.6/dist-packages/sklearn/discriminant_analysis.py:691: UserWarning: Variables are collinear\n",
            "  warnings.warn(\"Variables are collinear\")\n"
          ],
          "name": "stderr"
        },
        {
          "output_type": "stream",
          "text": [
            "              precision    recall  f1-score   support\n",
            "\n",
            "           0       0.36      0.96      0.52       980\n",
            "           1       0.90      0.95      0.92      1135\n",
            "           2       0.92      0.17      0.29      1032\n",
            "           3       0.62      0.28      0.38      1010\n",
            "           4       0.89      0.10      0.19       982\n",
            "           5       0.77      0.04      0.07       892\n",
            "           6       0.73      0.94      0.82       958\n",
            "           7       0.90      0.29      0.44      1028\n",
            "           8       0.42      0.68      0.52       974\n",
            "           9       0.43      0.95      0.59      1009\n",
            "\n",
            "    accuracy                           0.54     10000\n",
            "   macro avg       0.69      0.54      0.48     10000\n",
            "weighted avg       0.70      0.54      0.48     10000\n",
            "\n",
            "[[ 944   16  480  441  241  319   39   21  116   16]\n",
            " [   1 1075    9   13    6    6    6    8   58    9]\n",
            " [   1    1  177    1    5    1    1    2    2    2]\n",
            " [   7    1  106  281    7   18    1   14   13    4]\n",
            " [   0    1    5    0  103    1    0    3    0    3]\n",
            " [   1    0    0    1    1   33    2    0    5    0]\n",
            " [  10   18  136   35   46   60  903    1   30    0]\n",
            " [   1    0    3    4    9    2    0  303    3   10]\n",
            " [  14   18  105  175  179  395    6   20  660    6]\n",
            " [   1    5   11   59  385   57    0  656   87  959]]\n",
            "\n",
            "accuracy is  0.5438\n"
          ],
          "name": "stdout"
        }
      ]
    },
    {
      "cell_type": "code",
      "metadata": {
        "id": "R-eb4Ak3IdPK"
      },
      "source": [
        ""
      ],
      "execution_count": null,
      "outputs": []
    }
  ]
}